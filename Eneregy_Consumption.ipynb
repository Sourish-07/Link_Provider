{
  "nbformat": 4,
  "nbformat_minor": 0,
  "metadata": {
    "colab": {
      "provenance": [],
      "authorship_tag": "ABX9TyNWl/MArkIAxhy6Irmjq7Ht",
      "include_colab_link": true
    },
    "kernelspec": {
      "name": "python3",
      "display_name": "Python 3"
    },
    "language_info": {
      "name": "python"
    }
  },
  "cells": [
    {
      "cell_type": "markdown",
      "metadata": {
        "id": "view-in-github",
        "colab_type": "text"
      },
      "source": [
        "<a href=\"https://colab.research.google.com/github/Sourish-07/Link_Provider/blob/main/Eneregy_Consumption.ipynb\" target=\"_parent\"><img src=\"https://colab.research.google.com/assets/colab-badge.svg\" alt=\"Open In Colab\"/></a>"
      ]
    },
    {
      "cell_type": "markdown",
      "source": [
        "# **Energy Consumption**"
      ],
      "metadata": {
        "id": "v31CflIZbZ-7"
      }
    },
    {
      "cell_type": "markdown",
      "source": [
        "## **Data Preprocessing**"
      ],
      "metadata": {
        "id": "rPd9-lL4cDq-"
      }
    },
    {
      "cell_type": "code",
      "source": [
        "import pandas as pd\n",
        "import matplotlib.pyplot as plt\n",
        "import numpy as np"
      ],
      "metadata": {
        "id": "6pR4Rs17b91u"
      },
      "execution_count": 90,
      "outputs": []
    },
    {
      "cell_type": "code",
      "source": [
        "dataset = pd.read_csv('energy-consumption-2020-1.csv')\n",
        "df = pd.DataFrame(dataset, columns=['Site Name', 'Department','Electric Utility', ' Building Type ', 'Address', 'Year', 'Current Solar', 'Peak Electric Demand','Building Area','Natural Gas Usage', 'Latitude', 'Longitude', 'Electricity Usage'])\n",
        "df = df.dropna()\n",
        "X = df.iloc[:, :-1].values\n",
        "y = df.iloc[:, -1].values\n"
      ],
      "metadata": {
        "id": "r5PmIR3nTMXW"
      },
      "execution_count": 98,
      "outputs": []
    },
    {
      "cell_type": "markdown",
      "source": [
        "## **Encoding**"
      ],
      "metadata": {
        "id": "32HNO_HpCsyz"
      }
    },
    {
      "cell_type": "code",
      "source": [
        "from sklearn.preprocessing import LabelEncoder\n",
        "fd = pd.DataFrame(X)\n",
        "le = LabelEncoder()\n",
        "for col in fd.columns:\n",
        "  fd[col] = le.fit_transform(fd[col])\n",
        "print(fd)\n",
        "X = fd\n",
        "print (X)"
      ],
      "metadata": {
        "colab": {
          "base_uri": "https://localhost:8080/"
        },
        "id": "IUKlkYLmCvxl",
        "outputId": "16b47ba5-1fa3-489f-cb0b-e1e1c780d277"
      },
      "execution_count": 103,
      "outputs": [
        {
          "output_type": "stream",
          "name": "stdout",
          "text": [
            "      0   1   2   3    4   5   6    7    8    9    10   11\n",
            "0    320   1   0  37  221   0   0    0   29    0  130  377\n",
            "1    301  10   0  47  437   0   0    0    0    0  193  279\n",
            "2    288  10   0  22   30   0   0    0    0    0  363  313\n",
            "3    253  10   0  29   81   0   0    0    0    0  396  312\n",
            "4    246  10   2  33  377   0   0    0    0    0   33   36\n",
            "..   ...  ..  ..  ..  ...  ..  ..  ...  ...  ...  ...  ...\n",
            "484  346   1   0  34  116   0  24  187  224   38   87  318\n",
            "485  369  13   0  22  135   0   0  190  227  126  173  211\n",
            "486  304   3   0   4    3   0  15  191  230  130  185  240\n",
            "487  349   1   0  45  274   0   0  192  229    0   99  401\n",
            "488  350   1   0  45  299   0   0  194  231  124  100  415\n",
            "\n",
            "[489 rows x 12 columns]\n",
            "      0   1   2   3    4   5   6    7    8    9    10   11\n",
            "0    320   1   0  37  221   0   0    0   29    0  130  377\n",
            "1    301  10   0  47  437   0   0    0    0    0  193  279\n",
            "2    288  10   0  22   30   0   0    0    0    0  363  313\n",
            "3    253  10   0  29   81   0   0    0    0    0  396  312\n",
            "4    246  10   2  33  377   0   0    0    0    0   33   36\n",
            "..   ...  ..  ..  ..  ...  ..  ..  ...  ...  ...  ...  ...\n",
            "484  346   1   0  34  116   0  24  187  224   38   87  318\n",
            "485  369  13   0  22  135   0   0  190  227  126  173  211\n",
            "486  304   3   0   4    3   0  15  191  230  130  185  240\n",
            "487  349   1   0  45  274   0   0  192  229    0   99  401\n",
            "488  350   1   0  45  299   0   0  194  231  124  100  415\n",
            "\n",
            "[489 rows x 12 columns]\n"
          ]
        }
      ]
    },
    {
      "cell_type": "markdown",
      "source": [
        "## **Splitting into Training and Test Set**"
      ],
      "metadata": {
        "id": "WaJOXcvJolyG"
      }
    },
    {
      "cell_type": "code",
      "source": [
        "from sklearn.model_selection import train_test_split\n",
        "X_train, X_test, y_train, y_test = train_test_split(X, y, test_size = 0.2, random_state = 1)"
      ],
      "metadata": {
        "id": "QjglXe1coeza"
      },
      "execution_count": 104,
      "outputs": []
    },
    {
      "cell_type": "markdown",
      "source": [
        "##**Training a Regression model (Random_Forest_Regression)**"
      ],
      "metadata": {
        "id": "T2up7SyKpPkX"
      }
    },
    {
      "cell_type": "code",
      "source": [
        "from sklearn.ensemble import RandomForestRegressor\n",
        "regressor = RandomForestRegressor(n_estimators = 1007, random_state = 17)\n",
        "regressor.fit(X_train, y_train)"
      ],
      "metadata": {
        "colab": {
          "base_uri": "https://localhost:8080/",
          "height": 74
        },
        "id": "dsyqnieRpQuK",
        "outputId": "05817275-3339-4234-d1d7-5df8d6e83c5d"
      },
      "execution_count": 198,
      "outputs": [
        {
          "output_type": "execute_result",
          "data": {
            "text/plain": [
              "RandomForestRegressor(n_estimators=1007, random_state=17)"
            ],
            "text/html": [
              "<style>#sk-container-id-40 {color: black;background-color: white;}#sk-container-id-40 pre{padding: 0;}#sk-container-id-40 div.sk-toggleable {background-color: white;}#sk-container-id-40 label.sk-toggleable__label {cursor: pointer;display: block;width: 100%;margin-bottom: 0;padding: 0.3em;box-sizing: border-box;text-align: center;}#sk-container-id-40 label.sk-toggleable__label-arrow:before {content: \"▸\";float: left;margin-right: 0.25em;color: #696969;}#sk-container-id-40 label.sk-toggleable__label-arrow:hover:before {color: black;}#sk-container-id-40 div.sk-estimator:hover label.sk-toggleable__label-arrow:before {color: black;}#sk-container-id-40 div.sk-toggleable__content {max-height: 0;max-width: 0;overflow: hidden;text-align: left;background-color: #f0f8ff;}#sk-container-id-40 div.sk-toggleable__content pre {margin: 0.2em;color: black;border-radius: 0.25em;background-color: #f0f8ff;}#sk-container-id-40 input.sk-toggleable__control:checked~div.sk-toggleable__content {max-height: 200px;max-width: 100%;overflow: auto;}#sk-container-id-40 input.sk-toggleable__control:checked~label.sk-toggleable__label-arrow:before {content: \"▾\";}#sk-container-id-40 div.sk-estimator input.sk-toggleable__control:checked~label.sk-toggleable__label {background-color: #d4ebff;}#sk-container-id-40 div.sk-label input.sk-toggleable__control:checked~label.sk-toggleable__label {background-color: #d4ebff;}#sk-container-id-40 input.sk-hidden--visually {border: 0;clip: rect(1px 1px 1px 1px);clip: rect(1px, 1px, 1px, 1px);height: 1px;margin: -1px;overflow: hidden;padding: 0;position: absolute;width: 1px;}#sk-container-id-40 div.sk-estimator {font-family: monospace;background-color: #f0f8ff;border: 1px dotted black;border-radius: 0.25em;box-sizing: border-box;margin-bottom: 0.5em;}#sk-container-id-40 div.sk-estimator:hover {background-color: #d4ebff;}#sk-container-id-40 div.sk-parallel-item::after {content: \"\";width: 100%;border-bottom: 1px solid gray;flex-grow: 1;}#sk-container-id-40 div.sk-label:hover label.sk-toggleable__label {background-color: #d4ebff;}#sk-container-id-40 div.sk-serial::before {content: \"\";position: absolute;border-left: 1px solid gray;box-sizing: border-box;top: 0;bottom: 0;left: 50%;z-index: 0;}#sk-container-id-40 div.sk-serial {display: flex;flex-direction: column;align-items: center;background-color: white;padding-right: 0.2em;padding-left: 0.2em;position: relative;}#sk-container-id-40 div.sk-item {position: relative;z-index: 1;}#sk-container-id-40 div.sk-parallel {display: flex;align-items: stretch;justify-content: center;background-color: white;position: relative;}#sk-container-id-40 div.sk-item::before, #sk-container-id-40 div.sk-parallel-item::before {content: \"\";position: absolute;border-left: 1px solid gray;box-sizing: border-box;top: 0;bottom: 0;left: 50%;z-index: -1;}#sk-container-id-40 div.sk-parallel-item {display: flex;flex-direction: column;z-index: 1;position: relative;background-color: white;}#sk-container-id-40 div.sk-parallel-item:first-child::after {align-self: flex-end;width: 50%;}#sk-container-id-40 div.sk-parallel-item:last-child::after {align-self: flex-start;width: 50%;}#sk-container-id-40 div.sk-parallel-item:only-child::after {width: 0;}#sk-container-id-40 div.sk-dashed-wrapped {border: 1px dashed gray;margin: 0 0.4em 0.5em 0.4em;box-sizing: border-box;padding-bottom: 0.4em;background-color: white;}#sk-container-id-40 div.sk-label label {font-family: monospace;font-weight: bold;display: inline-block;line-height: 1.2em;}#sk-container-id-40 div.sk-label-container {text-align: center;}#sk-container-id-40 div.sk-container {/* jupyter's `normalize.less` sets `[hidden] { display: none; }` but bootstrap.min.css set `[hidden] { display: none !important; }` so we also need the `!important` here to be able to override the default hidden behavior on the sphinx rendered scikit-learn.org. See: https://github.com/scikit-learn/scikit-learn/issues/21755 */display: inline-block !important;position: relative;}#sk-container-id-40 div.sk-text-repr-fallback {display: none;}</style><div id=\"sk-container-id-40\" class=\"sk-top-container\"><div class=\"sk-text-repr-fallback\"><pre>RandomForestRegressor(n_estimators=1007, random_state=17)</pre><b>In a Jupyter environment, please rerun this cell to show the HTML representation or trust the notebook. <br />On GitHub, the HTML representation is unable to render, please try loading this page with nbviewer.org.</b></div><div class=\"sk-container\" hidden><div class=\"sk-item\"><div class=\"sk-estimator sk-toggleable\"><input class=\"sk-toggleable__control sk-hidden--visually\" id=\"sk-estimator-id-40\" type=\"checkbox\" checked><label for=\"sk-estimator-id-40\" class=\"sk-toggleable__label sk-toggleable__label-arrow\">RandomForestRegressor</label><div class=\"sk-toggleable__content\"><pre>RandomForestRegressor(n_estimators=1007, random_state=17)</pre></div></div></div></div></div>"
            ]
          },
          "metadata": {},
          "execution_count": 198
        }
      ]
    },
    {
      "cell_type": "code",
      "source": [
        "y_pred = regressor.predict(X_test)\n",
        "from sklearn.metrics import r2_score\n",
        "r2_score(y_test, y_pred)*100"
      ],
      "metadata": {
        "colab": {
          "base_uri": "https://localhost:8080/"
        },
        "id": "HmQvbRNpWUbk",
        "outputId": "30f00625-279c-42ea-b51e-433787264ed5"
      },
      "execution_count": 199,
      "outputs": [
        {
          "output_type": "execute_result",
          "data": {
            "text/plain": [
              "77.91602943370187"
            ]
          },
          "metadata": {},
          "execution_count": 199
        }
      ]
    },
    {
      "cell_type": "code",
      "source": [
        "from sklearn.ensemble import RandomForestClassifier\n",
        "from sklearn.metrics import accuracy_score\n",
        "scores =[]\n",
        "for k in range(1, 2000):\n",
        "    rfc = RandomForestClassifier(n_estimators=k)\n",
        "    rfc.fit(X_train, y_train)\n",
        "    y_pred = rfc.predict(X_test)\n",
        "    scores.append(accuracy_score(y_test, y_pred))\n",
        "\n",
        "import matplotlib.pyplot as plt\n",
        "%matplotlib inline\n",
        "\n",
        "# plot the relationship between K and testing accuracy\n",
        "# plt.plot(x_axis, y_axis)\n",
        "plt.plot(range(1, 200), scores)\n",
        "plt.xlabel('Value of n_estimators for Random Forest Classifier')\n",
        "plt.ylabel('Testing Accuracy')\n"
      ],
      "metadata": {
        "id": "Ut14n60vrkd9"
      },
      "execution_count": null,
      "outputs": []
    }
  ]
}